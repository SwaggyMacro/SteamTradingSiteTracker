{
 "cells": [
  {
   "cell_type": "markdown",
   "metadata": {},
   "source": [
    "# demo.ipynb\n",
    "\n",
    "基于完整的历史数据，获得低比例饰品池的较优筛选规则\n",
    "\n",
    "输入：饰品的 `buff_meta` 字段  \n",
    "输出：是否将饰品加入池中 (True / False)\n",
    "\n",
    "## 读取数据集"
   ]
  },
  {
   "cell_type": "code",
   "execution_count": 1,
   "metadata": {},
   "outputs": [],
   "source": [
    "import os, json\n",
    "from tqdm import tqdm\n",
    "import pandas as pd\n",
    "import numpy as np"
   ]
  },
  {
   "cell_type": "code",
   "execution_count": 2,
   "metadata": {},
   "outputs": [
    {
     "name": "stderr",
     "output_type": "stream",
     "text": [
      "100%|██████████████████████████████████████████████████████████████████████████████████| 20/20 [00:14<00:00,  1.38it/s]"
     ]
    },
    {
     "name": "stdout",
     "output_type": "stream",
     "text": [
      "Size of dataset: 38075\n"
     ]
    },
    {
     "name": "stderr",
     "output_type": "stream",
     "text": [
      "\n"
     ]
    }
   ],
   "source": [
    "dataset = []\n",
    "\n",
    "for index in tqdm(range(20)):\n",
    "    with open('data_{}.json'.format(index), 'r', encoding='utf-8') as f:\n",
    "        dataset.extend(json.load(f))\n",
    "print(\"Size of dataset:\", len(dataset))"
   ]
  },
  {
   "cell_type": "markdown",
   "metadata": {},
   "source": [
    "## 预处理数据集\n",
    "\n",
    "`overall_profit` 字段为该饰品在 buff 与 Steam Market 的 24 小时挂刀总利润（估计值，仅定性使用）"
   ]
  },
  {
   "cell_type": "code",
   "execution_count": 3,
   "metadata": {},
   "outputs": [],
   "source": [
    "def compile_item(item):\n",
    "    info = dict()\n",
    "#     info['appid'] = item['buff_meta']['appid']\n",
    "#     info['game'] = item['buff_meta']['game']\n",
    "#     info['market_hash_name'] = item['buff_meta']['market_hash_name']\n",
    "#     info['name'] = item['buff_meta']['name']\n",
    "#     info['buff_id'] = item['buff_meta']['id']\n",
    "    info['market_id'] = item['buff_meta']['market_id']\n",
    "\n",
    "    info['sell_bum'] = item['buff_meta']['sell_num']\n",
    "    info['buy_num'] = item['buff_meta']['buy_num']\n",
    "    \n",
    "    info['sell_min_price'] = eval(item['buff_meta']['sell_min_price'])\n",
    "    info['buy_max_price'] = eval(item['buff_meta']['buy_max_price'])\n",
    "    info['quick_price'] = eval(item['buff_meta']['quick_price'])\n",
    "    \n",
    "    if info['buy_max_price']:\n",
    "        info['buff_ratio'] = info['sell_min_price'] / info['buy_max_price']\n",
    "    else:\n",
    "        info['buff_ratio'] = 999\n",
    "    \n",
    "    info['volume'] = eval(item['steam_overview'].get('volume', '0').replace(',',''))\n",
    "    info['lowest_price'] = eval(item['steam_overview'].get('lowest_price', '￥ 0').replace(',', '')[2:])\n",
    "    info['median_price'] = eval(item['steam_overview'].get('median_price', '￥ 0').replace(',', '')[2:])\n",
    "    \n",
    "    if info['lowest_price']:\n",
    "        info['steam_ratio'] = info['quick_price'] / (info['lowest_price'] * 0.85)\n",
    "        info['profit'] = (info['lowest_price'] * 0.85) - info['quick_price']\n",
    "    else:\n",
    "        info['steam_ratio'] = 99999\n",
    "        info['profit'] = 0\n",
    "    \n",
    "    info['overall_profit'] = info['profit'] * info['volume']\n",
    "    \n",
    "    return info"
   ]
  },
  {
   "cell_type": "code",
   "execution_count": 4,
   "metadata": {},
   "outputs": [
    {
     "name": "stderr",
     "output_type": "stream",
     "text": [
      "100%|█████████████████████████████████████████████████████████████████████████| 38075/38075 [00:01<00:00, 37133.81it/s]"
     ]
    },
    {
     "name": "stdout",
     "output_type": "stream",
     "text": [
      "Size of full list: 24590\n",
      "Size of filtered list: 10623\n"
     ]
    },
    {
     "name": "stderr",
     "output_type": "stream",
     "text": [
      "\n"
     ]
    }
   ],
   "source": [
    "full_list = [] # 仅通过 buff_meta 进行过滤，满足题目限制要求\n",
    "filtered_list = [] # 通过 buff_meta, steam_volume 等进行过滤，不满足限制要求\n",
    "positive_set = set() # 目标饰品（正例）的 id 集合\n",
    "\n",
    "for item in tqdm(dataset):        \n",
    "    i = compile_item(item)\n",
    "    if i['quick_price'] < 1: continue # 去除价格过低的饰品\n",
    "\n",
    "    full_list.append(i)\n",
    "    \n",
    "    if i['volume'] < 2: continue # 去除交易量过低的饰品\n",
    "    if i['median_price'] * 2 < i['lowest_price']: continue # 去除价格过于不稳定的饰品\n",
    "        \n",
    "    filtered_list.append(i)\n",
    "print(\"Size of full list:\", len(full_list))\n",
    "print(\"Size of filtered list:\", len(filtered_list))"
   ]
  },
  {
   "cell_type": "markdown",
   "metadata": {},
   "source": [
    "正例条件一：总利润位于前 4000 位，筛选后挂刀比例位于前 2000 位"
   ]
  },
  {
   "cell_type": "code",
   "execution_count": 5,
   "metadata": {},
   "outputs": [
    {
     "name": "stdout",
     "output_type": "stream",
     "text": [
      "Size of positive instances: 2000\n"
     ]
    }
   ],
   "source": [
    "df = pd.DataFrame(filtered_list)\n",
    "df = df.sort_values('overall_profit', ascending=False)[:4000]\n",
    "df = df.sort_values('steam_ratio', ascending=True)[:2000]\n",
    "for index, row in df.iterrows():\n",
    "    positive_set.add(row['market_id'])\n",
    "print(\"Size of positive instances:\", len(positive_set))"
   ]
  },
  {
   "cell_type": "markdown",
   "metadata": {},
   "source": [
    "正例条件二：价格在 10~500 元区间内，筛选后总利润位于前 3000 位，筛选后比例位于前 2500 位"
   ]
  },
  {
   "cell_type": "code",
   "execution_count": 6,
   "metadata": {},
   "outputs": [
    {
     "name": "stdout",
     "output_type": "stream",
     "text": [
      "Size of items with prices in (10, 500): 4152\n",
      "Size of positive instances: 3475\n"
     ]
    }
   ],
   "source": [
    "df = pd.DataFrame(filtered_list)\n",
    "df = df[df['quick_price'] > 10]\n",
    "df = df[df['quick_price'] < 500]\n",
    "print(\"Size of items with prices in (10, 500):\", len(df))\n",
    "df = df.sort_values('overall_profit', ascending=False)[:3000]\n",
    "df = df.sort_values('steam_ratio', ascending=True)[:2500]\n",
    "for index, row in df.iterrows():\n",
    "    positive_set.add(row['market_id'])\n",
    "print(\"Size of positive instances:\", len(positive_set))"
   ]
  },
  {
   "cell_type": "markdown",
   "metadata": {},
   "source": [
    "## 构造 feature 与 label"
   ]
  },
  {
   "cell_type": "code",
   "execution_count": 7,
   "metadata": {},
   "outputs": [
    {
     "name": "stdout",
     "output_type": "stream",
     "text": [
      "Shape of X (24590, 6)\n",
      "Shape of Y (24590,)\n",
      "# positive instances:  3475\n"
     ]
    }
   ],
   "source": [
    "X = []\n",
    "Y = []\n",
    "\n",
    "for item in full_list:\n",
    "    id_ = item['market_id']\n",
    "    x = list(item.values())[1:7]\n",
    "    \n",
    "    X.append(x)\n",
    "    if id_ in positive_set:\n",
    "        Y.append(1)\n",
    "    else:\n",
    "        Y.append(0)\n",
    "\n",
    "X = np.array(X)\n",
    "Y = np.array(Y)\n",
    "        \n",
    "print(\"Shape of X\", X.shape)\n",
    "print(\"Shape of Y\", Y.shape)\n",
    "print(\"# positive instances: \", sum(Y))"
   ]
  },
  {
   "cell_type": "markdown",
   "metadata": {},
   "source": [
    "## 用 descision stump 做分类\n",
    "\n",
    "recall 重要性大于 precision  \n",
    "暂不划分 train/test, 直接考虑训练集上的metrics"
   ]
  },
  {
   "cell_type": "code",
   "execution_count": 8,
   "metadata": {},
   "outputs": [],
   "source": [
    "from sklearn.tree import export_text, DecisionTreeClassifier\n",
    "from sklearn.metrics import f1_score, accuracy_score, recall_score, precision_score\n",
    "import matplotlib.pyplot as plt"
   ]
  },
  {
   "cell_type": "code",
   "execution_count": 9,
   "metadata": {},
   "outputs": [
    {
     "name": "stdout",
     "output_type": "stream",
     "text": [
      "# predicted positive instances: 12669\n",
      "Precision 0.26758228747336016\n",
      "Recall 0.9755395683453237\n"
     ]
    }
   ],
   "source": [
    "clf = DecisionTreeClassifier(max_depth=1, class_weight={0:1, 1:30})\n",
    "clf = clf.fit(X, Y)\n",
    "print(\"# predicted positive instances:\", sum(clf.predict(X)))\n",
    "print('Precision', precision_score(Y, clf.predict(X)))\n",
    "print('Recall', recall_score(Y, clf.predict(X)))"
   ]
  },
  {
   "cell_type": "markdown",
   "metadata": {},
   "source": [
    "## 可视化分类规则"
   ]
  },
  {
   "cell_type": "code",
   "execution_count": 10,
   "metadata": {},
   "outputs": [
    {
     "data": {
      "image/svg+xml": [
       "<?xml version=\"1.0\" encoding=\"UTF-8\" standalone=\"no\"?>\n",
       "<!DOCTYPE svg PUBLIC \"-//W3C//DTD SVG 1.1//EN\"\n",
       " \"http://www.w3.org/Graphics/SVG/1.1/DTD/svg11.dtd\">\n",
       "<!-- Generated by graphviz version 2.50.0 (20211204.2007)\n",
       " -->\n",
       "<!-- Title: Tree Pages: 1 -->\n",
       "<svg width=\"344pt\" height=\"195pt\"\n",
       " viewBox=\"0.00 0.00 344.00 195.00\" xmlns=\"http://www.w3.org/2000/svg\" xmlns:xlink=\"http://www.w3.org/1999/xlink\">\n",
       "<g id=\"graph0\" class=\"graph\" transform=\"scale(1 1) rotate(0) translate(4 191)\">\n",
       "<title>Tree</title>\n",
       "<polygon fill=\"white\" stroke=\"transparent\" points=\"-4,4 -4,-191 340,-191 340,4 -4,4\"/>\n",
       "<!-- 0 -->\n",
       "<g id=\"node1\" class=\"node\">\n",
       "<title>0</title>\n",
       "<path fill=\"#61b1ea\" stroke=\"black\" d=\"M243,-187C243,-187 96,-187 96,-187 90,-187 84,-181 84,-175 84,-175 84,-116 84,-116 84,-110 90,-104 96,-104 96,-104 243,-104 243,-104 249,-104 255,-110 255,-116 255,-116 255,-175 255,-175 255,-181 249,-187 243,-187\"/>\n",
       "<text text-anchor=\"start\" x=\"117.5\" y=\"-171.8\" font-family=\"Helvetica,sans-Serif\" font-size=\"14.00\">buff_ratio ≤ 1.54</text>\n",
       "<text text-anchor=\"start\" x=\"136\" y=\"-156.8\" font-family=\"Helvetica,sans-Serif\" font-size=\"14.00\">gini = 0.28</text>\n",
       "<text text-anchor=\"start\" x=\"113.5\" y=\"-141.8\" font-family=\"Helvetica,sans-Serif\" font-size=\"14.00\">samples = 24590</text>\n",
       "<text text-anchor=\"start\" x=\"92\" y=\"-126.8\" font-family=\"Helvetica,sans-Serif\" font-size=\"14.00\">value = [21115, 104250]</text>\n",
       "<text text-anchor=\"start\" x=\"124.5\" y=\"-111.8\" font-family=\"Helvetica,sans-Serif\" font-size=\"14.00\">class = Select</text>\n",
       "</g>\n",
       "<!-- 1 -->\n",
       "<g id=\"node2\" class=\"node\">\n",
       "<title>1</title>\n",
       "<path fill=\"#4ba6e7\" stroke=\"black\" d=\"M151,-68C151,-68 12,-68 12,-68 6,-68 0,-62 0,-56 0,-56 0,-12 0,-12 0,-6 6,0 12,0 12,0 151,0 151,0 157,0 163,-6 163,-12 163,-12 163,-56 163,-56 163,-62 157,-68 151,-68\"/>\n",
       "<text text-anchor=\"start\" x=\"44\" y=\"-52.8\" font-family=\"Helvetica,sans-Serif\" font-size=\"14.00\">gini = 0.153</text>\n",
       "<text text-anchor=\"start\" x=\"25.5\" y=\"-37.8\" font-family=\"Helvetica,sans-Serif\" font-size=\"14.00\">samples = 12669</text>\n",
       "<text text-anchor=\"start\" x=\"8\" y=\"-22.8\" font-family=\"Helvetica,sans-Serif\" font-size=\"14.00\">value = [9279, 101700]</text>\n",
       "<text text-anchor=\"start\" x=\"36.5\" y=\"-7.8\" font-family=\"Helvetica,sans-Serif\" font-size=\"14.00\">class = Select</text>\n",
       "</g>\n",
       "<!-- 0&#45;&gt;1 -->\n",
       "<g id=\"edge1\" class=\"edge\">\n",
       "<title>0&#45;&gt;1</title>\n",
       "<path fill=\"none\" stroke=\"black\" d=\"M136.73,-103.73C129.55,-94.79 121.94,-85.32 114.74,-76.36\"/>\n",
       "<polygon fill=\"black\" stroke=\"black\" points=\"117.25,-73.9 108.26,-68.3 111.8,-78.29 117.25,-73.9\"/>\n",
       "<text text-anchor=\"middle\" x=\"105.56\" y=\"-89.45\" font-family=\"Helvetica,sans-Serif\" font-size=\"14.00\">True</text>\n",
       "</g>\n",
       "<!-- 2 -->\n",
       "<g id=\"node3\" class=\"node\">\n",
       "<title>2</title>\n",
       "<path fill=\"#eb9c64\" stroke=\"black\" d=\"M324,-68C324,-68 193,-68 193,-68 187,-68 181,-62 181,-56 181,-56 181,-12 181,-12 181,-6 187,0 193,0 193,0 324,0 324,0 330,0 336,-6 336,-12 336,-12 336,-56 336,-56 336,-62 330,-68 324,-68\"/>\n",
       "<text text-anchor=\"start\" x=\"221\" y=\"-52.8\" font-family=\"Helvetica,sans-Serif\" font-size=\"14.00\">gini = 0.292</text>\n",
       "<text text-anchor=\"start\" x=\"202.5\" y=\"-37.8\" font-family=\"Helvetica,sans-Serif\" font-size=\"14.00\">samples = 11921</text>\n",
       "<text text-anchor=\"start\" x=\"189\" y=\"-22.8\" font-family=\"Helvetica,sans-Serif\" font-size=\"14.00\">value = [11836, 2550]</text>\n",
       "<text text-anchor=\"start\" x=\"220\" y=\"-7.8\" font-family=\"Helvetica,sans-Serif\" font-size=\"14.00\">class = Skip</text>\n",
       "</g>\n",
       "<!-- 0&#45;&gt;2 -->\n",
       "<g id=\"edge2\" class=\"edge\">\n",
       "<title>0&#45;&gt;2</title>\n",
       "<path fill=\"none\" stroke=\"black\" d=\"M202.64,-103.73C209.98,-94.7 217.76,-85.12 225.11,-76.08\"/>\n",
       "<polygon fill=\"black\" stroke=\"black\" points=\"227.84,-78.27 231.43,-68.3 222.41,-73.85 227.84,-78.27\"/>\n",
       "<text text-anchor=\"middle\" x=\"234\" y=\"-89.47\" font-family=\"Helvetica,sans-Serif\" font-size=\"14.00\">False</text>\n",
       "</g>\n",
       "</g>\n",
       "</svg>\n"
      ],
      "text/plain": [
       "<graphviz.sources.Source at 0x2b06924bc70>"
      ]
     },
     "execution_count": 10,
     "metadata": {},
     "output_type": "execute_result"
    }
   ],
   "source": [
    "from sklearn import tree\n",
    "import graphviz\n",
    "dot_data = tree.export_graphviz(clf, out_file=None, \n",
    "                      feature_names=['sell_num', 'buy_num', 'sell_min_price', 'buy_max_price', 'quick_price', 'buff_ratio'],  \n",
    "                      class_names=['Skip', 'Select'],\n",
    "                      filled=True, rounded=True,  \n",
    "                      special_characters=True)\n",
    "graph = graphviz.Source(dot_data)\n",
    "graph"
   ]
  },
  {
   "cell_type": "code",
   "execution_count": 11,
   "metadata": {},
   "outputs": [
    {
     "name": "stdout",
     "output_type": "stream",
     "text": [
      "|--- buff_ratio <= 1.54\n",
      "|   |--- class: 1\n",
      "|--- buff_ratio >  1.54\n",
      "|   |--- class: 0\n",
      "\n"
     ]
    }
   ],
   "source": [
    "r = export_text(clf, feature_names=['sell_num', 'buy_num', 'sell_min_price', 'buy_max_price', 'quick_price', 'buff_ratio'])\n",
    "print(r)"
   ]
  },
  {
   "cell_type": "markdown",
   "metadata": {},
   "source": [
    "## 验证简单规则的分类效果"
   ]
  },
  {
   "cell_type": "code",
   "execution_count": 12,
   "metadata": {},
   "outputs": [
    {
     "name": "stdout",
     "output_type": "stream",
     "text": [
      "# predicted positive instances: 12670\n",
      "Precision 0.2675611681136543\n",
      "Recall 0.9755395683453237\n"
     ]
    }
   ],
   "source": [
    "def simple_classifier(x):\n",
    "    if x[5] < 1.54: return True\n",
    "    return False\n",
    "print(\"# predicted positive instances:\", sum([simple_classifier(i) for i in X]))\n",
    "print('Precision', precision_score(Y, [simple_classifier(i) for i in X]))\n",
    "print('Recall', recall_score(Y, [simple_classifier(i) for i in X]))"
   ]
  },
  {
   "cell_type": "code",
   "execution_count": null,
   "metadata": {},
   "outputs": [],
   "source": []
  }
 ],
 "metadata": {
  "kernelspec": {
   "display_name": "Python 3 (ipykernel)",
   "language": "python",
   "name": "python3"
  },
  "language_info": {
   "codemirror_mode": {
    "name": "ipython",
    "version": 3
   },
   "file_extension": ".py",
   "mimetype": "text/x-python",
   "name": "python",
   "nbconvert_exporter": "python",
   "pygments_lexer": "ipython3",
   "version": "3.9.7"
  }
 },
 "nbformat": 4,
 "nbformat_minor": 2
}
